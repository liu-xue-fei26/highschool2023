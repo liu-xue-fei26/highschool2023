{
 "cells": [
  {
   "cell_type": "markdown",
   "id": "bae71bcf-0569-45df-9619-a91314662614",
   "metadata": {},
   "source": [
    "## The Amount of Women in Congress"
   ]
  },
  {
   "cell_type": "markdown",
   "id": "97d9295c-a8f1-4e2a-98ad-7034f5723443",
   "metadata": {},
   "source": [
    "By: Amira Vojic 8/3/2023"
   ]
  },
  {
   "cell_type": "code",
   "execution_count": 27,
   "id": "f44954a0-4585-4e94-ab31-fcaaf4698b5f",
   "metadata": {},
   "outputs": [],
   "source": [
    "import pandas as pd\n",
    "import matplotlib.pyplot as plt"
   ]
  },
  {
   "cell_type": "markdown",
   "id": "11fe12d4-3a2c-4236-95a9-1b4b2897a282",
   "metadata": {},
   "source": [
    "I had to import pandas and matplotlib so I was so able to import data and make a graph"
   ]
  },
  {
   "cell_type": "code",
   "execution_count": 28,
   "id": "94e512ca-a394-47fd-b24e-896afd0c55a7",
   "metadata": {},
   "outputs": [],
   "source": [
    "df=pd.read_csv('womenincong.csv')"
   ]
  },
  {
   "cell_type": "markdown",
   "id": "a8e6914c-bec5-4c79-9a41-b6b0ce4a98d5",
   "metadata": {},
   "source": [
    "The 'womenincong' is the data."
   ]
  },
  {
   "cell_type": "code",
   "execution_count": 29,
   "id": "47380fc2-5d11-4abe-82e5-a3daf45de9c0",
   "metadata": {},
   "outputs": [
    {
     "data": {
      "text/html": [
       "<div>\n",
       "<style scoped>\n",
       "    .dataframe tbody tr th:only-of-type {\n",
       "        vertical-align: middle;\n",
       "    }\n",
       "\n",
       "    .dataframe tbody tr th {\n",
       "        vertical-align: top;\n",
       "    }\n",
       "\n",
       "    .dataframe thead th {\n",
       "        text-align: right;\n",
       "    }\n",
       "</style>\n",
       "<table border=\"1\" class=\"dataframe\">\n",
       "  <thead>\n",
       "    <tr style=\"text-align: right;\">\n",
       "      <th></th>\n",
       "      <th>Congress</th>\n",
       "      <th>Year</th>\n",
       "      <th>Chamber</th>\n",
       "      <th>Party</th>\n",
       "      <th>Member</th>\n",
       "    </tr>\n",
       "  </thead>\n",
       "  <tbody>\n",
       "    <tr>\n",
       "      <th>0</th>\n",
       "      <td>65</td>\n",
       "      <td>1917</td>\n",
       "      <td>House</td>\n",
       "      <td>D</td>\n",
       "      <td>.</td>\n",
       "    </tr>\n",
       "    <tr>\n",
       "      <th>1</th>\n",
       "      <td>65</td>\n",
       "      <td>1917</td>\n",
       "      <td>House</td>\n",
       "      <td>R</td>\n",
       "      <td>1</td>\n",
       "    </tr>\n",
       "    <tr>\n",
       "      <th>2</th>\n",
       "      <td>66</td>\n",
       "      <td>1919</td>\n",
       "      <td>House</td>\n",
       "      <td>D</td>\n",
       "      <td>.</td>\n",
       "    </tr>\n",
       "    <tr>\n",
       "      <th>3</th>\n",
       "      <td>66</td>\n",
       "      <td>1919</td>\n",
       "      <td>House</td>\n",
       "      <td>R</td>\n",
       "      <td>.</td>\n",
       "    </tr>\n",
       "    <tr>\n",
       "      <th>4</th>\n",
       "      <td>67</td>\n",
       "      <td>1921</td>\n",
       "      <td>House</td>\n",
       "      <td>D</td>\n",
       "      <td>.</td>\n",
       "    </tr>\n",
       "    <tr>\n",
       "      <th>...</th>\n",
       "      <td>...</td>\n",
       "      <td>...</td>\n",
       "      <td>...</td>\n",
       "      <td>...</td>\n",
       "      <td>...</td>\n",
       "    </tr>\n",
       "    <tr>\n",
       "      <th>207</th>\n",
       "      <td>115</td>\n",
       "      <td>2017</td>\n",
       "      <td>Senate</td>\n",
       "      <td>R</td>\n",
       "      <td>5</td>\n",
       "    </tr>\n",
       "    <tr>\n",
       "      <th>208</th>\n",
       "      <td>116</td>\n",
       "      <td>2019</td>\n",
       "      <td>Senate</td>\n",
       "      <td>D</td>\n",
       "      <td>17</td>\n",
       "    </tr>\n",
       "    <tr>\n",
       "      <th>209</th>\n",
       "      <td>116</td>\n",
       "      <td>2019</td>\n",
       "      <td>Senate</td>\n",
       "      <td>R</td>\n",
       "      <td>8</td>\n",
       "    </tr>\n",
       "    <tr>\n",
       "      <th>210</th>\n",
       "      <td>117</td>\n",
       "      <td>2021</td>\n",
       "      <td>Senate</td>\n",
       "      <td>D</td>\n",
       "      <td>17</td>\n",
       "    </tr>\n",
       "    <tr>\n",
       "      <th>211</th>\n",
       "      <td>117</td>\n",
       "      <td>2021</td>\n",
       "      <td>Senate</td>\n",
       "      <td>R</td>\n",
       "      <td>8</td>\n",
       "    </tr>\n",
       "  </tbody>\n",
       "</table>\n",
       "<p>212 rows × 5 columns</p>\n",
       "</div>"
      ],
      "text/plain": [
       "     Congress  Year Chamber Party Member\n",
       "0          65  1917   House     D      .\n",
       "1          65  1917   House     R      1\n",
       "2          66  1919   House     D      .\n",
       "3          66  1919   House     R      .\n",
       "4          67  1921   House     D      .\n",
       "..        ...   ...     ...   ...    ...\n",
       "207       115  2017  Senate     R      5\n",
       "208       116  2019  Senate     D     17\n",
       "209       116  2019  Senate     R      8\n",
       "210       117  2021  Senate     D     17\n",
       "211       117  2021  Senate     R      8\n",
       "\n",
       "[212 rows x 5 columns]"
      ]
     },
     "execution_count": 29,
     "metadata": {},
     "output_type": "execute_result"
    }
   ],
   "source": [
    "df"
   ]
  },
  {
   "cell_type": "markdown",
   "id": "095110d6-8601-404f-9f4e-d80558450110",
   "metadata": {},
   "source": [
    "Putting df after made the graph visible."
   ]
  },
  {
   "cell_type": "code",
   "execution_count": 30,
   "id": "6d8e4d20-978a-45e7-a6d2-803b891c9aec",
   "metadata": {
    "tags": []
   },
   "outputs": [],
   "source": [
    "year=df[\"Year\"] \n",
    "member=df[\"Member\"]\n",
    "party=df[\"Party\"]"
   ]
  },
  {
   "cell_type": "markdown",
   "id": "29a06ebd-0475-4b13-b09e-4bd5a9f8eff2",
   "metadata": {},
   "source": [
    "Here I got the columns from the data and gave them names so I could plot them."
   ]
  },
  {
   "cell_type": "code",
   "execution_count": 34,
   "id": "671dfebe-9deb-4892-b338-1a529a7ed2f2",
   "metadata": {},
   "outputs": [],
   "source": [
    "member.replace('.',0)\n",
    "dfD=df[df[\"Party\"]==\"D\"]\n",
    "yeardem=dfD[\"Year\"] \n",
    "memberdem=dfD[\"Member\"]\n",
    "\n",
    "\n",
    "    \n",
    "\n"
   ]
  },
  {
   "cell_type": "markdown",
   "id": "302e632d-7ba8-466b-9c01-567cc884b017",
   "metadata": {},
   "source": [
    "I specified the democrat party with dfD so I could differentiate it on the graph. The member replace line was because in the data the 0's were placed with \".\" instead of 0, but on the graph it didn't work so I had to replace it with 0."
   ]
  },
  {
   "cell_type": "code",
   "execution_count": 35,
   "id": "d79f2c02-ea5a-4747-9b5e-b9883880cc26",
   "metadata": {},
   "outputs": [],
   "source": [
    "dfR=df[df[\"Party\"]==\"R\"]\n",
    "yearrep=dfR[\"Year\"] \n",
    "memberrep=dfR[\"Member\"]"
   ]
  },
  {
   "cell_type": "markdown",
   "id": "39242e5e-4842-454d-9700-ae776bb1ceee",
   "metadata": {},
   "source": [
    "Did the same for republican with dfR."
   ]
  },
  {
   "cell_type": "code",
   "execution_count": 36,
   "id": "04c3ecba-9d41-44b7-8b7f-134d127f7064",
   "metadata": {},
   "outputs": [
    {
     "data": {
      "image/png": "[encoded data removed]",
      "text/plain": [
       "<Figure size 1000x600 with 1 Axes>"
      ]
     },
     "metadata": {},
     "output_type": "display_data"
    }
   ],
   "source": [
    "\n",
    "plt.figure(figsize=(10,6))\n",
    "plt.plot(yeardem,memberdem,\"b.\", label =\"democrat\")\n",
    "plt.plot(yearrep,memberrep,\"r.\", label =\"republican\")\n",
    "plt.xlabel(\"Year\")\n",
    "plt.ylabel(\"Amount of Women\")\n",
    "plt.title(\"The Number of Women elected in Congress in the U.S by Year\")\n",
    "plt.legend()\n",
    "plt.show()\n",
    "\n",
    "\n",
    "\n"
   ]
  },
  {
   "cell_type": "markdown",
   "id": "bb6110fe-9619-4d00-8ee5-5e91820f75b9",
   "metadata": {
    "tags": []
   },
   "source": [
    "## The Amount of Women in Congress\n",
    "Introduction: In this project we'll be looking at the number of women in the U.S that have been elected in Congress, as well as their parties. I wanted to make this graph to see if the rise of feminism affected the elected officials and how a more liberal party(democrats) and conservative party(republicans) would be changed.\n",
    "   \n",
    "Results: There are 535 people serving in congress, 100 in the House of Reps, 435 in the Senate. The most recent congress the 118th, is currently the winner in terms of women elected. With around 28% of congress being women. However if we look at the parties we can see that 41% of democrats in congress are women compared to the 16% for the republicans. The graph shows this as well, with the democrats having a steady increase every year while the republicans mostly stay low until the end of the graph. \n",
    "\n",
    "Conclusion: Based on the evidence, it is clear that democrats have been more affected by the rise of feminism at least in terms of who they elect. "
   ]
  },
  {
   "cell_type": "markdown",
   "id": "9876d8a2-fd30-4710-ab50-f1919243a12e",
   "metadata": {
    "tags": []
   },
   "source": [
    "## Sources\n",
    "\n",
    "[Pew Research Center](https://www.pewresearch.org/short-reads/2023/01/03/118th-congress-has-a-record-number-of-women/)\n",
    "\n",
    "[CAWP](https://cawpdata.rutgers.edu/women-elected-officials?current=1&position[]=US+Representative)"
   ]
  },
  {
   "cell_type": "code",
   "execution_count": null,
   "id": "272b1719-ab2a-44ef-9946-3fe36d57d340",
   "metadata": {},
   "outputs": [],
   "source": []
  }
 ],
 "metadata": {
  "kernelspec": {
   "display_name": "anaconda-panel-2023.05-py310",
   "language": "python",
   "name": "conda-env-anaconda-panel-2023.05-py310-py"
  },
  "language_info": {
   "codemirror_mode": {
    "name": "ipython",
    "version": 3
   },
   "file_extension": ".py",
   "mimetype": "text/x-python",
   "name": "python",
   "nbconvert_exporter": "python",
   "pygments_lexer": "ipython3",
   "version": "3.11.4"
  }
 },
 "nbformat": 4,
 "nbformat_minor": 5
}
